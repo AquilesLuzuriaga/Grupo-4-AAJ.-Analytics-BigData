{
  "nbformat": 4,
  "nbformat_minor": 0,
  "metadata": {
    "colab": {
      "provenance": [],
      "include_colab_link": true
    },
    "kernelspec": {
      "name": "python3",
      "display_name": "Python 3"
    },
    "language_info": {
      "name": "python"
    }
  },
  "cells": [
    {
      "cell_type": "markdown",
      "metadata": {
        "id": "view-in-github",
        "colab_type": "text"
      },
      "source": [
        "<a href=\"https://colab.research.google.com/github/AquilesLuzuriaga/Grupo-4-AAJ.-Analytics-BigData/blob/main/Transformaciones_(1).ipynb\" target=\"_parent\"><img src=\"https://colab.research.google.com/assets/colab-badge.svg\" alt=\"Open In Colab\"/></a>"
      ]
    },
    {
      "cell_type": "markdown",
      "source": [
        "##Transformación de Fechas y horas"
      ],
      "metadata": {
        "id": "1pmu3mi6Dh0R"
      }
    },
    {
      "cell_type": "code",
      "source": [
        "#Importamos librerías\n",
        "from datetime import datetime, date, time, timedelta\n",
        "import datetime\n",
        "import pandas as pd\n",
        "import numpy as np"
      ],
      "metadata": {
        "id": "ul44qE9qDnGQ"
      },
      "execution_count": null,
      "outputs": []
    },
    {
      "cell_type": "code",
      "source": [
        "#AÑO\n",
        "ahora = datetime.datetime.now()\n",
        "print(\"La fecha y hora actual es: \", ahora)\n",
        "\n",
        "#Este año\n",
        "anio = ahora.year\n",
        "print(\"El año es: \", anio)\n",
        "\n",
        "#Año proximo\n",
        "año_proximo = anio + 1\n",
        "print(\"El año próximo es: \", año_proximo)"
      ],
      "metadata": {
        "id": "nepUFIbtGUBu",
        "colab": {
          "base_uri": "https://localhost:8080/"
        },
        "outputId": "60878cba-9c06-4631-c598-c004b1c94693"
      },
      "execution_count": null,
      "outputs": [
        {
          "output_type": "stream",
          "name": "stdout",
          "text": [
            "La fecha y hora actual es:  2025-09-25 20:40:38.439551\n",
            "El año es:  2025\n",
            "El año próximo es:  2026\n"
          ]
        }
      ]
    },
    {
      "cell_type": "code",
      "source": [
        "#Mes\n",
        "\n",
        "#Mes actual\n",
        "mes_actual = ahora.month\n",
        "print(\"El mes actual es: \", mes_actual)\n",
        "\n",
        "#Mes próximo\n",
        "mes_proximo = mes_actual + 1\n",
        "print(\"El mes próximo es: \", mes_proximo)\n",
        "\n",
        "#Cambio el tipo de dato\n",
        "print(type(mes_proximo))\n",
        "print(type(str(mes_proximo)))"
      ],
      "metadata": {
        "id": "oo9D-S5JG3F7",
        "colab": {
          "base_uri": "https://localhost:8080/"
        },
        "outputId": "076004be-1cea-4bbb-b92b-c365787030c0"
      },
      "execution_count": null,
      "outputs": [
        {
          "output_type": "stream",
          "name": "stdout",
          "text": [
            "El mes actual es:  9\n",
            "El mes próximo es:  10\n",
            "<class 'int'>\n",
            "<class 'str'>\n"
          ]
        }
      ]
    },
    {
      "cell_type": "code",
      "source": [
        "#DIA\n",
        "\n",
        "#Dia actual\n",
        "dia_actual = ahora.day\n",
        "print(\"El día actual es: \", dia_actual)\n",
        "\n",
        "#Dia próximo\n",
        "dia_proximo = dia_actual + 1\n",
        "print(\"El día próximo es: \", dia_proximo)"
      ],
      "metadata": {
        "id": "sO11Q6HtH4v0",
        "colab": {
          "base_uri": "https://localhost:8080/"
        },
        "outputId": "b24ce3da-9952-4028-eedc-9dde83335a63"
      },
      "execution_count": null,
      "outputs": [
        {
          "output_type": "stream",
          "name": "stdout",
          "text": [
            "El día actual es:  25\n",
            "El día próximo es:  26\n"
          ]
        }
      ]
    },
    {
      "cell_type": "code",
      "execution_count": null,
      "metadata": {
        "id": "6oFz-6IODYLW",
        "colab": {
          "base_uri": "https://localhost:8080/"
        },
        "outputId": "9cf781c3-1f12-46bf-c2b4-9ff5a79cc595"
      },
      "outputs": [
        {
          "output_type": "stream",
          "name": "stdout",
          "text": [
            "La hora Greenwich Mean Time (GMT) es:  2025-09-25 20:42:57.139101\n",
            "La hora en Argentina es: 2025-09-25 17:42:57.139101\n"
          ]
        }
      ],
      "source": [
        "#HORA\n",
        "\n",
        "#Hora GMT\n",
        "ahora = datetime.datetime.now()\n",
        "print(\"La hora Greenwich Mean Time (GMT) es: \", ahora)\n",
        "\n",
        "#Hora Argentina (Le restamos 3 horas)\n",
        "hora_arg = ahora - timedelta(hours=3)\n",
        "print(\"La hora en Argentina es:\", hora_arg)\n"
      ]
    },
    {
      "cell_type": "code",
      "source": [
        "# Formatear la hora\n",
        "hora_formateada = ahora.strftime(\"%Y-%m-%d %H:%M:%S\")\n",
        "\n",
        "# Imprimir la hora formateada\n",
        "print(\"La hora actual es:\", hora_formateada)"
      ],
      "metadata": {
        "id": "rWMSLs3AFuPc",
        "colab": {
          "base_uri": "https://localhost:8080/"
        },
        "outputId": "1b0cf4e7-848d-4167-dc94-f3aeb59f839c"
      },
      "execution_count": null,
      "outputs": [
        {
          "output_type": "stream",
          "name": "stdout",
          "text": [
            "La hora actual es: 2025-09-25 20:42:57\n"
          ]
        }
      ]
    },
    {
      "cell_type": "markdown",
      "source": [
        "##Transformación de Strings a enteros"
      ],
      "metadata": {
        "id": "qVAyoAIcJzQo"
      }
    },
    {
      "cell_type": "code",
      "source": [
        "#Cambio el tipo de dato, de string a enteros\n",
        "\n",
        "numero = \"15\"\n",
        "\n",
        "print(type(numero))\n",
        "\n",
        "print(f\"El numero ingresado es : {numero} y el tipo es:  {type(numero)} \")"
      ],
      "metadata": {
        "id": "XR6dWuCaJ38f",
        "colab": {
          "base_uri": "https://localhost:8080/"
        },
        "outputId": "ee52b0c0-3f3b-497a-c8e2-baf6e74a1a5d"
      },
      "execution_count": null,
      "outputs": [
        {
          "output_type": "stream",
          "name": "stdout",
          "text": [
            "<class 'str'>\n",
            "El numero ingresado es : 15 y el tipo es:  <class 'str'> \n"
          ]
        }
      ]
    },
    {
      "cell_type": "code",
      "source": [
        "#convertimos el dato de estring a enteros\n",
        "numero = int(numero)\n",
        "\n",
        "print(f\"El numero ingresado es : {numero} y el tipo es:  {type(numero)} \")\n"
      ],
      "metadata": {
        "id": "b7fzxXrSLLJn",
        "colab": {
          "base_uri": "https://localhost:8080/"
        },
        "outputId": "2d9fc611-1d13-4e65-a3b6-8face0ccd925"
      },
      "execution_count": null,
      "outputs": [
        {
          "output_type": "stream",
          "name": "stdout",
          "text": [
            "El numero ingresado es : 15 y el tipo es:  <class 'int'> \n"
          ]
        }
      ]
    },
    {
      "cell_type": "markdown",
      "source": [
        "##Transformación de Strings a decimales"
      ],
      "metadata": {
        "id": "pDYWvtaPLv06"
      }
    },
    {
      "cell_type": "code",
      "source": [
        "#Cambio el tipo de dato, de string a enteros\n",
        "\n",
        "numero = \"10.1\"\n",
        "\n",
        "print(f\"El numero ingresado es : {numero} y el tipo es:  {type(numero)} \")"
      ],
      "metadata": {
        "id": "Yu3Hsd2bLx7R",
        "colab": {
          "base_uri": "https://localhost:8080/"
        },
        "outputId": "26fdace4-533f-434d-d093-8344fe883ade"
      },
      "execution_count": null,
      "outputs": [
        {
          "output_type": "stream",
          "name": "stdout",
          "text": [
            "El numero ingresado es : 10.1 y el tipo es:  <class 'str'> \n"
          ]
        }
      ]
    },
    {
      "cell_type": "code",
      "source": [
        "#convertimos el dato de estring a enteros\n",
        "numero = float(numero)\n",
        "\n",
        "print(f\"El numero ingresado es : {numero} y el tipo es:  {type(numero)} \")"
      ],
      "metadata": {
        "id": "8LHxTxfZL8eY",
        "colab": {
          "base_uri": "https://localhost:8080/"
        },
        "outputId": "5c7a506f-93b8-459a-a98e-0012b2a45e4a"
      },
      "execution_count": null,
      "outputs": [
        {
          "output_type": "stream",
          "name": "stdout",
          "text": [
            "El numero ingresado es : 10.1 y el tipo es:  <class 'float'> \n"
          ]
        }
      ]
    },
    {
      "cell_type": "markdown",
      "source": [
        "##Transformación, join de datasets"
      ],
      "metadata": {
        "id": "6pCfMK9KMa1h"
      }
    },
    {
      "cell_type": "code",
      "source": [
        "\n",
        "# Notas de Matemática y Lengua\n",
        "df1 = pd.DataFrame({'Alumno': ['Alumno0', 'Alumno1', 'Alumno2'],\n",
        "                    'Matermática': ['5', '6', '7'],\n",
        "                    'Lengua': ['7', '7', '8']\n",
        "                    })\n",
        "\n",
        "# Notas de Historia y Geografía\n",
        "df2 = pd.DataFrame({'Alumno': ['Alumno0', 'Alumno2', 'Alumno3'],\n",
        "                    'Historia': ['4', '5', '4'],\n",
        "                    'Geografía': ['6', '7', '9']\n",
        "                    })\n",
        "\n",
        "# Mostramos los dataframes\n",
        "print(df1)\n",
        "print('           ')\n",
        "print(df2)\n",
        "\n"
      ],
      "metadata": {
        "id": "NfT7OdDtNg0d",
        "colab": {
          "base_uri": "https://localhost:8080/"
        },
        "outputId": "8dea4835-7d5d-47f3-e869-298dddfa3178"
      },
      "execution_count": null,
      "outputs": [
        {
          "output_type": "stream",
          "name": "stdout",
          "text": [
            "    Alumno Matermática Lengua\n",
            "0  Alumno0           5      7\n",
            "1  Alumno1           6      7\n",
            "2  Alumno2           7      8\n",
            "           \n",
            "    Alumno Historia Geografía\n",
            "0  Alumno0        4         6\n",
            "1  Alumno2        5         7\n",
            "2  Alumno3        4         9\n"
          ]
        }
      ]
    },
    {
      "cell_type": "code",
      "source": [
        "# Hacemos join de los dataframes y mostramos las notas\n",
        "\n",
        "merged_df = pd.merge(df1, df2, on='Alumno', how='right')\n",
        "print(merged_df)"
      ],
      "metadata": {
        "id": "5u_k4tr0SCgp",
        "colab": {
          "base_uri": "https://localhost:8080/"
        },
        "outputId": "75c4e752-3fa0-4d00-d6c1-663618f35533"
      },
      "execution_count": null,
      "outputs": [
        {
          "output_type": "stream",
          "name": "stdout",
          "text": [
            "    Alumno Matermática Lengua Historia Geografía\n",
            "0  Alumno0           5      7        4         6\n",
            "1  Alumno2           7      8        5         7\n",
            "2  Alumno3         NaN    NaN        4         9\n"
          ]
        }
      ]
    },
    {
      "cell_type": "markdown",
      "source": [
        "##Substitución de datos faltante por un tipo de dato default"
      ],
      "metadata": {
        "id": "Rv1PhlReXRaZ"
      }
    },
    {
      "cell_type": "code",
      "source": [
        "#Reemplazamos nulos por ceros\n",
        "\n",
        "# Creando un DataFrame\n",
        "df = pd.DataFrame({'columna1': [1, 2, None, 4],\n",
        "                   'columna2': [5, None, None, 8]})\n",
        "\n",
        "print(df)\n"
      ],
      "metadata": {
        "id": "v68zUZ3yXVyL",
        "colab": {
          "base_uri": "https://localhost:8080/"
        },
        "outputId": "a2908193-126b-48ba-d1a2-71b5a3990102"
      },
      "execution_count": null,
      "outputs": [
        {
          "output_type": "stream",
          "name": "stdout",
          "text": [
            "   columna1  columna2\n",
            "0       1.0       5.0\n",
            "1       2.0       NaN\n",
            "2       NaN       NaN\n",
            "3       4.0       8.0\n"
          ]
        }
      ]
    },
    {
      "cell_type": "code",
      "source": [
        "# Rellenando los valores nulos con 0\n",
        "\n",
        "df = df.fillna(0) #Podemos reemplazar el cero por el valor que necesitemos\n",
        "print(df)"
      ],
      "metadata": {
        "id": "5bYtTtaM7lYG",
        "colab": {
          "base_uri": "https://localhost:8080/"
        },
        "outputId": "4e615814-2e9b-4989-cee0-ee7d03105ef4"
      },
      "execution_count": null,
      "outputs": [
        {
          "output_type": "stream",
          "name": "stdout",
          "text": [
            "   columna1  columna2\n",
            "0       1.0       5.0\n",
            "1       2.0       0.0\n",
            "2       0.0       0.0\n",
            "3       4.0       8.0\n"
          ]
        }
      ]
    },
    {
      "cell_type": "markdown",
      "source": [
        "##Filtrar datos que rompen reglas de negocio o porque no los necesitemos"
      ],
      "metadata": {
        "id": "92xDXtCoZbVe"
      }
    },
    {
      "cell_type": "code",
      "source": [
        "\n",
        "# Creamos un DataFrame de ejemplo\n",
        "data = {'producto': ['A', 'B', 'C', 'D'],\n",
        "        'precio': [5, 15, 8, 20]}\n",
        "df = pd.DataFrame(data)\n",
        "\n",
        "print(df)\n"
      ],
      "metadata": {
        "id": "o3m7TB6yZnXx",
        "colab": {
          "base_uri": "https://localhost:8080/"
        },
        "outputId": "f057d3a0-134a-4dfa-85f1-236aaf438355"
      },
      "execution_count": null,
      "outputs": [
        {
          "output_type": "stream",
          "name": "stdout",
          "text": [
            "  producto  precio\n",
            "0        A       5\n",
            "1        B      15\n",
            "2        C       8\n",
            "3        D      20\n"
          ]
        }
      ]
    },
    {
      "cell_type": "code",
      "source": [
        "# Filtrar los productos con precio menor a 10\n",
        "df_filtrado = df[df['precio'] < 10]\n",
        "print(df_filtrado)"
      ],
      "metadata": {
        "id": "gD87fIRUZrXz",
        "colab": {
          "base_uri": "https://localhost:8080/"
        },
        "outputId": "2b84f9df-8768-4891-9f9f-e67900675966"
      },
      "execution_count": null,
      "outputs": [
        {
          "output_type": "stream",
          "name": "stdout",
          "text": [
            "  producto  precio\n",
            "0        A       5\n",
            "2        C       8\n"
          ]
        }
      ]
    },
    {
      "cell_type": "markdown",
      "source": [
        "##Eliminar columnas que no son necesarias"
      ],
      "metadata": {
        "id": "JQssgWdSZ8CF"
      }
    },
    {
      "cell_type": "code",
      "source": [
        "\n",
        "# Creamos un DataFrame de ejemplo\n",
        "data = {'nombre': ['Ana', 'Pedro', 'María'],\n",
        "        'edad': [30, 25, 32],\n",
        "        'ciudad': ['Madrid', 'Barcelona', 'Sevilla'],\n",
        "        'correo': ['ana@example.com', 'pedro@example.com', 'maria@example.com'],\n",
        "        'telefono': [123456789, 987654321, 567891234]}\n",
        "df = pd.DataFrame(data)\n",
        "\n",
        "print(df)"
      ],
      "metadata": {
        "id": "DA6LSOxOZ_11",
        "colab": {
          "base_uri": "https://localhost:8080/"
        },
        "outputId": "1f3918b7-be3f-472d-d30d-d157eb53a29c"
      },
      "execution_count": null,
      "outputs": [
        {
          "output_type": "stream",
          "name": "stdout",
          "text": [
            "  nombre  edad     ciudad             correo   telefono\n",
            "0    Ana    30     Madrid    ana@example.com  123456789\n",
            "1  Pedro    25  Barcelona  pedro@example.com  987654321\n",
            "2  María    32    Sevilla  maria@example.com  567891234\n"
          ]
        }
      ]
    },
    {
      "cell_type": "code",
      "source": [
        "# Eliminar las columnas 'correo' y 'telefono'\n",
        "columnas_a_eliminar = ['correo', 'telefono']\n",
        "\n",
        "#axis=1: Se refiere a las columnas.\n",
        "#inplace=True: modifica el DataFrame original en lugar de crear una copia y realizar los cambios en ella\n",
        "df.drop(columnas_a_eliminar, axis=1, inplace=True)\n",
        "\n",
        "print(df)"
      ],
      "metadata": {
        "id": "nTW98L5caFDr",
        "colab": {
          "base_uri": "https://localhost:8080/"
        },
        "outputId": "9db09a35-25bf-4de7-83e6-11bf13a2eae1"
      },
      "execution_count": null,
      "outputs": [
        {
          "output_type": "stream",
          "name": "stdout",
          "text": [
            "  nombre  edad     ciudad\n",
            "0    Ana    30     Madrid\n",
            "1  Pedro    25  Barcelona\n",
            "2  María    32    Sevilla\n"
          ]
        }
      ]
    },
    {
      "cell_type": "markdown",
      "source": [
        "<H1>\n",
        "📝 Ejercicios de Transformación de Datos"
      ],
      "metadata": {
        "id": "UUdA5u4rlp8F"
      }
    },
    {
      "cell_type": "markdown",
      "source": [
        "1. Transformación de Fechas y Horas: Crea un script que calcule y muestre la fecha del próximo lunes.\n",
        "\n",
        "Pista: Usa la librería datetime."
      ],
      "metadata": {
        "id": "HmyWTTzflwJx"
      }
    },
    {
      "cell_type": "code",
      "source": [
        "#Ejercicio 1\n",
        "\n",
        "hoy = datetime.date.today()\n",
        "print('la fecha de hoy es:', hoy)\n",
        "\n",
        "dias_faltantes_hasta_prox_lunes = 7 - hoy.weekday()\n",
        "print('faltan' , dias_faltantes_hasta_prox_lunes, 'dias para el prox lunes')\n",
        "\n",
        "prox_lunes = hoy + datetime.timedelta(days=dias_faltantes_hasta_prox_lunes)\n",
        "print('la fecha del proximo lunes es:' , prox_lunes)"
      ],
      "metadata": {
        "id": "k2ZQeSAll0VX",
        "colab": {
          "base_uri": "https://localhost:8080/"
        },
        "outputId": "cca62778-7e68-416a-a224-c2b47d08815f"
      },
      "execution_count": null,
      "outputs": [
        {
          "output_type": "stream",
          "name": "stdout",
          "text": [
            "la fecha de hoy es: 2025-09-26\n",
            "faltan 3 dias para el prox lunes\n",
            "la fecha del proximo lunes es: 2025-09-29\n"
          ]
        }
      ]
    },
    {
      "cell_type": "markdown",
      "source": [
        "2. Transformación de Strings a Números: Convierte la cadena \"99.5\" a un tipo de dato flotante y luego a un tipo de dato entero. ¿Qué sucede con el valor decimal al hacer la conversión final?"
      ],
      "metadata": {
        "id": "6G84VJ_Zl2eS"
      }
    },
    {
      "cell_type": "code",
      "source": [],
      "metadata": {
        "id": "PnkkY8MjpkZg"
      },
      "execution_count": null,
      "outputs": []
    },
    {
      "cell_type": "code",
      "source": [
        "#Ejercicio 2\n",
        "\n",
        "numero = \"99.5\"\n",
        "print(type(numero))\n",
        "numero = float(numero)\n",
        "print(numero)\n",
        "numero = int(numero)\n",
        "print(numero)\n",
        "\n",
        "#En int ya no tiene los decimales(redondea)"
      ],
      "metadata": {
        "id": "Ve4kXCmQl7Aa",
        "colab": {
          "base_uri": "https://localhost:8080/"
        },
        "outputId": "44269f7b-e9e8-4e63-d218-3c1e8c3a58c6"
      },
      "execution_count": null,
      "outputs": [
        {
          "output_type": "stream",
          "name": "stdout",
          "text": [
            "<class 'str'>\n",
            "99.5\n",
            "99\n"
          ]
        }
      ]
    },
    {
      "cell_type": "markdown",
      "source": [
        "3. Filtrado de Datos: Dado el siguiente DataFrame, filtra los datos para mostrar solo las ventas que superan los 500 y son del producto 'A'."
      ],
      "metadata": {
        "id": "bWdhgfjGl8qZ"
      }
    },
    {
      "cell_type": "code",
      "source": [
        "#Ejercicio 3\n",
        "data = {'producto': ['A', 'B', 'A', 'C'], 'ventas': [600, 450, 750, 300]}\n",
        "df = pd.DataFrame(data)\n",
        "print(\"Original DataFrame:\")\n",
        "print(df)\n",
        "\n",
        "# Filtrar los datos para mostrar solo las ventas que superan los 500 y son del producto 'A'.\n",
        "df_filtrado = df[(df['ventas'] > 500) & (df['producto'] == 'A')]\n",
        "\n",
        "print(\"\\nFiltrados:\")\n",
        "print(df_filtrado)"
      ],
      "metadata": {
        "id": "inU6zRgQmEIv",
        "colab": {
          "base_uri": "https://localhost:8080/"
        },
        "outputId": "7c567090-7f28-4101-f058-b294786669ee"
      },
      "execution_count": null,
      "outputs": [
        {
          "output_type": "stream",
          "name": "stdout",
          "text": [
            "Original DataFrame:\n",
            "  producto  ventas\n",
            "0        A     600\n",
            "1        B     450\n",
            "2        A     750\n",
            "3        C     300\n",
            "\n",
            "Filtrados:\n",
            "  producto  ventas\n",
            "0        A     600\n",
            "2        A     750\n"
          ]
        }
      ]
    },
    {
      "cell_type": "markdown",
      "source": [
        "4. Agrupación y Agregación de Datos: Utiliza el DataFrame anterior y agrúpalo por 'producto' para calcular la suma total de 'ventas' por cada producto.\n",
        "\n"
      ],
      "metadata": {
        "id": "elxPCgGZmKj-"
      }
    },
    {
      "cell_type": "code",
      "source": [
        "#Ejercicio 4\n",
        "\n",
        "# Agrupar por 'producto' y calcular la suma total de 'ventas' por cada producto.\n",
        "df_agrupado = df.groupby('producto')['ventas'].sum()\n",
        "print(df_agrupado)"
      ],
      "metadata": {
        "id": "5wYtme-7mSNc",
        "colab": {
          "base_uri": "https://localhost:8080/"
        },
        "outputId": "b6221001-2013-4f2d-9f06-e1cd17bedf5a"
      },
      "execution_count": null,
      "outputs": [
        {
          "output_type": "stream",
          "name": "stdout",
          "text": [
            "producto\n",
            "A    1350\n",
            "B     450\n",
            "C     300\n",
            "Name: ventas, dtype: int64\n"
          ]
        }
      ]
    },
    {
      "cell_type": "markdown",
      "source": [
        "5. Unión de DataFrames: Tienes dos DataFrames, uno con datos de empleados y otro con sus salarios. Únelos para que en un solo DataFrame aparezca el nombre del empleado y su salario."
      ],
      "metadata": {
        "id": "_4nEHPP0mT6l"
      }
    },
    {
      "cell_type": "code",
      "source": [
        "#Ejercicio 5\n",
        "df_empleados = pd.DataFrame({'id_empleado': [101, 102, 103], 'nombre': ['Juan', 'María', 'Pedro']})\n",
        "df_salarios = pd.DataFrame({'id_empleado': [102, 101, 103], 'salario': [50000, 60000, 75000]})\n",
        "\n",
        "merged_df = pd.merge(df_empleados, df_salarios, on='id_empleado')\n",
        "\n",
        "print(\"Datos Unidos:\")\n",
        "print(merged_df)"
      ],
      "metadata": {
        "id": "u2iBJOSJmcme",
        "colab": {
          "base_uri": "https://localhost:8080/"
        },
        "outputId": "1fcaf00b-2661-44a7-98c7-4bb9c69ef232"
      },
      "execution_count": null,
      "outputs": [
        {
          "output_type": "stream",
          "name": "stdout",
          "text": [
            "Datos Unidos:\n",
            "   id_empleado nombre  salario\n",
            "0          101   Juan    60000\n",
            "1          102  María    50000\n",
            "2          103  Pedro    75000\n"
          ]
        }
      ]
    },
    {
      "cell_type": "markdown",
      "source": [
        "6. Reemplazo de Valores: En el siguiente DataFrame, reemplaza todos los valores None en la columna 'edad' por el valor de la edad promedio de la columna."
      ],
      "metadata": {
        "id": "k_ETC6v6metc"
      }
    },
    {
      "cell_type": "code",
      "source": [
        "#Ejercicio 6\n",
        "\n",
        "data = {'nombre': ['Ana', 'Luis', 'Sofía'], 'edad': [25, np.nan, 30]}\n",
        "df = pd.DataFrame(data)\n",
        "\n",
        "\n",
        "# Calculo media (sin contar los vacios)\n",
        "mean_edad = df['edad'].mean()\n",
        "\n",
        "# Remplazo los vacios\n",
        "df['edad'] = df['edad'].fillna(mean_edad)\n",
        "\n",
        "print(df)"
      ],
      "metadata": {
        "id": "PKB0du2nmpS_",
        "colab": {
          "base_uri": "https://localhost:8080/"
        },
        "outputId": "efbde77d-dc12-48de-b348-43bc151572cc"
      },
      "execution_count": null,
      "outputs": [
        {
          "output_type": "stream",
          "name": "stdout",
          "text": [
            "  nombre  edad\n",
            "0    Ana  25.0\n",
            "1   Luis  27.5\n",
            "2  Sofía  30.0\n"
          ]
        }
      ]
    },
    {
      "cell_type": "markdown",
      "source": [
        "7. Eliminación de Filas: Dado el DataFrame anterior, elimina la fila que contiene el valor None"
      ],
      "metadata": {
        "id": "yBnVDl0lmvpQ"
      }
    },
    {
      "cell_type": "code",
      "source": [
        "#Ejercicio 7\n",
        "data = {'nombre': ['Ana', 'Luis', 'Sofía'], 'edad': [25, np.nan, 30]}\n",
        "df = pd.DataFrame(data)\n",
        "\n",
        "print(\"Original\")\n",
        "print(df)\n",
        "\n",
        "# Elimina la fila que contiene el valor None\n",
        "df_limpio = df.dropna()\n",
        "\n",
        "print(\"Sin los nan\")\n",
        "print(df_limpio)"
      ],
      "metadata": {
        "id": "KBQpXaVVmzjs",
        "colab": {
          "base_uri": "https://localhost:8080/"
        },
        "outputId": "865b9285-94bb-4d7b-e342-804c675f7984"
      },
      "execution_count": null,
      "outputs": [
        {
          "output_type": "stream",
          "name": "stdout",
          "text": [
            "Original\n",
            "  nombre  edad\n",
            "0    Ana  25.0\n",
            "1   Luis   NaN\n",
            "2  Sofía  30.0\n",
            "Sin los nan\n",
            "  nombre  edad\n",
            "0    Ana  25.0\n",
            "2  Sofía  30.0\n"
          ]
        }
      ]
    },
    {
      "cell_type": "markdown",
      "source": [
        "8. Transformación de Datos de una Columna: En el siguiente DataFrame, convierte todos los valores de la columna 'ciudad' a mayúsculas."
      ],
      "metadata": {
        "id": "TL_P3iP6m1SH"
      }
    },
    {
      "cell_type": "code",
      "source": [
        "#Ejercicio 8\n",
        "df_ciudades = pd.DataFrame({'ciudad': ['madrid', 'barcelona', 'sevilla']})\n",
        "\n",
        "df_ciudades['ciudad'] = df_ciudades['ciudad'].str.upper()\n",
        "\n",
        "print(\"\\nCiudades:\")\n",
        "print(df_ciudades)"
      ],
      "metadata": {
        "id": "Q1dVLbrFneXb",
        "colab": {
          "base_uri": "https://localhost:8080/"
        },
        "outputId": "15eae672-3e89-410e-d4f2-b0998ad821f5"
      },
      "execution_count": null,
      "outputs": [
        {
          "output_type": "stream",
          "name": "stdout",
          "text": [
            "\n",
            "Ciudades:\n",
            "      ciudad\n",
            "0     MADRID\n",
            "1  BARCELONA\n",
            "2    SEVILLA\n"
          ]
        }
      ]
    },
    {
      "cell_type": "markdown",
      "source": [
        "9. Creación de una Nueva Columna: Usando el DataFrame de df_ciudades, crea una nueva columna llamada 'país' y asigna el valor 'España' a todas las filas."
      ],
      "metadata": {
        "id": "rxksaydwnvho"
      }
    },
    {
      "cell_type": "code",
      "source": [
        "#Ejercicio 9\n",
        "\n",
        "# Using the DataFrame from Exercise 8\n",
        "df_ciudades = pd.DataFrame({'ciudad': ['MADRID', 'BARCELONA', 'SEVILLA']})\n",
        "\n",
        "df_ciudades['país'] = 'España'\n",
        "\n",
        "print(df_ciudades)"
      ],
      "metadata": {
        "id": "bL19LKPhnz_G",
        "colab": {
          "base_uri": "https://localhost:8080/"
        },
        "outputId": "6d84c082-f9b1-44c2-e7c2-80d176850d3c"
      },
      "execution_count": null,
      "outputs": [
        {
          "output_type": "stream",
          "name": "stdout",
          "text": [
            "      ciudad    país\n",
            "0     MADRID  España\n",
            "1  BARCELONA  España\n",
            "2    SEVILLA  España\n"
          ]
        }
      ]
    },
    {
      "cell_type": "markdown",
      "source": [
        "10. Eliminar Duplicados: En el siguiente DataFrame, elimina las filas duplicadas."
      ],
      "metadata": {
        "id": "1i0vq2sMoDIb"
      }
    },
    {
      "cell_type": "code",
      "source": [
        "#Ejercicio 10\n",
        "df_duplicados = pd.DataFrame({'A': [1, 2, 2, 3], 'B': ['x', 'y', 'y', 'z']})\n",
        "\n",
        "print(df_duplicados)\n",
        "\n",
        "df_sin_duplicados = df_duplicados.drop_duplicates()\n",
        "\n",
        "print(\"\\nSacando los duplicados\")\n",
        "print(df_sin_duplicados)"
      ],
      "metadata": {
        "id": "_4wfxYaqoE8b",
        "colab": {
          "base_uri": "https://localhost:8080/"
        },
        "outputId": "95436a83-6ed5-4306-eb33-32e6292175ef"
      },
      "execution_count": null,
      "outputs": [
        {
          "output_type": "stream",
          "name": "stdout",
          "text": [
            "   A  B\n",
            "0  1  x\n",
            "1  2  y\n",
            "2  2  y\n",
            "3  3  z\n",
            "\n",
            "Sacando los duplicados\n",
            "   A  B\n",
            "0  1  x\n",
            "1  2  y\n",
            "3  3  z\n"
          ]
        }
      ]
    }
  ]
}